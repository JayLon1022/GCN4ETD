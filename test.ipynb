{
 "cells": [
  {
   "cell_type": "code",
   "id": "eba7871008ccd8e2",
   "metadata": {
    "ExecuteTime": {
     "end_time": "2024-12-01T02:47:27.075416Z",
     "start_time": "2024-12-01T02:47:22.288228Z"
    }
   },
   "source": [
    "import pandas as pd\n",
    "import numpy as np\n",
    "import torch\n",
    "import scipy.sparse as sp\n",
    "from sklearn.preprocessing import MinMaxScaler\n",
    "from sklearn.model_selection import train_test_split\n",
    "from sklearn.metrics import classification_report\n",
    "\n",
    "path = 'UGR_sample_5M.csv'\n",
    "data = pd.read_csv(path)\n",
    "# 对数据集进行抽样，减少数据量\n",
    "data = data.sample(n=5000, random_state=42)\n",
    "\n",
    "features_columns = ['Duration', 'Source Port', 'Destination Port', 'Packets', 'Bytes']\n",
    "features = data[features_columns]\n",
    "\n",
    "# 转换 IP 地址为数值\n",
    "data['Source IP'] = data['Source IP'].apply(lambda x: int(''.join(x.split('.'))))\n",
    "data['Destination IP'] = data['Destination IP'].apply(lambda x: int(''.join(x.split('.'))))\n",
    "\n",
    "# 归一化特征\n",
    "scaler = MinMaxScaler()\n",
    "features = scaler.fit_transform(features)\n",
    "\n",
    "src_ips = data['Source IP']\n",
    "dst_ips = data['Destination IP']\n",
    "adj_list = []\n"
   ],
   "outputs": [],
   "execution_count": 2
  },
  {
   "metadata": {
    "ExecuteTime": {
     "end_time": "2024-12-01T02:49:37.278926Z",
     "start_time": "2024-12-01T02:49:37.266781Z"
    }
   },
   "cell_type": "code",
   "source": [
    "src_ips = src_ips.astype(str).apply(lambda x: int(''.join(x.split('.'))))\n",
    "dst_ips = dst_ips.astype(str).apply(lambda x: int(''.join(x.split('.'))))\n",
    "if src_ips.isnull().any() or dst_ips.isnull().any():\n",
    "    raise ValueError(\"Source IPs or Destination IPs contain null values!\")\n"
   ],
   "id": "a3359eb79cfc09c2",
   "outputs": [],
   "execution_count": 5
  },
  {
   "metadata": {
    "collapsed": true,
    "ExecuteTime": {
     "end_time": "2024-12-01T02:52:22.322071Z",
     "start_time": "2024-12-01T02:52:22.267203Z"
    }
   },
   "cell_type": "code",
   "source": [
    "ip_to_indices = {}\n",
    "for idx, ip in enumerate(src_ips):\n",
    "    if ip not in ip_to_indices:\n",
    "        ip_to_indices[ip] = []\n",
    "    ip_to_indices[ip].append(idx)\n",
    "\n",
    "adj_list = []\n",
    "for idx, dst_ip in enumerate(dst_ips):\n",
    "    if dst_ip in ip_to_indices:\n",
    "        for neighbor_idx in ip_to_indices[dst_ip]:\n",
    "            adj_list.append((idx, neighbor_idx))\n",
    "\n",
    "# print(adj_list[:10, :10])\n",
    "print(len(adj_list))"
   ],
   "id": "initial_id",
   "outputs": [
    {
     "name": "stdout",
     "output_type": "stream",
     "text": [
      "280760\n"
     ]
    }
   ],
   "execution_count": 10
  },
  {
   "metadata": {
    "ExecuteTime": {
     "end_time": "2024-12-01T02:57:21.845487Z",
     "start_time": "2024-12-01T02:57:21.764073Z"
    }
   },
   "cell_type": "code",
   "source": [
    "rows, cols = zip(*adj_list)\n",
    "adj = sp.coo_matrix(\n",
    "        (np.ones(len(rows)), (rows, cols)),\n",
    "        shape=(len(data), len(data)),\n",
    "        dtype=np.float32\n",
    "    )"
   ],
   "id": "9019c94527bffef6",
   "outputs": [],
   "execution_count": 16
  },
  {
   "metadata": {},
   "cell_type": "code",
   "outputs": [],
   "execution_count": null,
   "source": [
    "def sparse_mx_to_torch_sparse_tensor(sparse_mx):\n",
    "    \"\"\"Convert a scipy sparse matrix to torch sparse tensor.\"\"\"\n",
    "    sparse_mx = sparse_mx.tocoo().astype(np.float32)\n",
    "    indices = torch.from_numpy(np.vstack((sparse_mx.row, sparse_mx.col)).astype(np.int64))\n",
    "    values = torch.from_numpy(sparse_mx.data)\n",
    "    shape = torch.Size(sparse_mx.shape)\n",
    "    return torch.sparse.FloatTensor(indices, values, shape)\n"
   ],
   "id": "333351b6b4552371"
  },
  {
   "metadata": {
    "ExecuteTime": {
     "end_time": "2024-12-01T03:05:35.224423Z",
     "start_time": "2024-12-01T03:05:35.220955Z"
    }
   },
   "cell_type": "code",
   "source": "lables = data['Label'].replace(['background'], 0).replace(['anomaly-spam'], 1).replace(['blacklist'], 2).replace(['dos'], 3).replace(['nerisbotnet'], 4).replace(['scan44'], 5).replace(['scan11'], 6)",
   "id": "fb2baec7d4347e6e",
   "outputs": [],
   "execution_count": 28
  },
  {
   "metadata": {
    "ExecuteTime": {
     "end_time": "2024-12-01T03:05:38.702929Z",
     "start_time": "2024-12-01T03:05:38.699288Z"
    }
   },
   "cell_type": "code",
   "source": [
    "print(data['Label'].dtype)\n",
    "print(data['Label'].unique())"
   ],
   "id": "ddd010fb19dbf582",
   "outputs": [
    {
     "name": "stdout",
     "output_type": "stream",
     "text": [
      "int64\n",
      "[0 5 3 2 1 4]\n"
     ]
    }
   ],
   "execution_count": 30
  },
  {
   "metadata": {
    "ExecuteTime": {
     "end_time": "2024-12-01T03:05:47.046686Z",
     "start_time": "2024-12-01T03:05:47.043694Z"
    }
   },
   "cell_type": "code",
   "source": "labels = torch.LongTensor(lables.values)",
   "id": "c143299697d0152b",
   "outputs": [],
   "execution_count": 31
  },
  {
   "metadata": {
    "ExecuteTime": {
     "end_time": "2024-12-01T03:17:55.360281Z",
     "start_time": "2024-12-01T03:17:55.354506Z"
    }
   },
   "cell_type": "code",
   "source": "print(data['Label'].value_counts())",
   "id": "5e79af5634262842",
   "outputs": [
    {
     "name": "stdout",
     "output_type": "stream",
     "text": [
      "Label\n",
      "0    4924\n",
      "3      31\n",
      "5      20\n",
      "2      13\n",
      "1       6\n",
      "4       6\n",
      "Name: count, dtype: int64\n"
     ]
    }
   ],
   "execution_count": 37
  },
  {
   "metadata": {
    "ExecuteTime": {
     "end_time": "2024-12-01T03:13:18.237184Z",
     "start_time": "2024-12-01T03:13:18.229045Z"
    }
   },
   "cell_type": "code",
   "source": [
    " # 划分训练集、验证集和测试集\n",
    "idx_train, idx_temp, labels_train, labels_temp = train_test_split(\n",
    "    range(len(labels)), labels, test_size=0.4, stratify=labels, random_state=42\n",
    ")\n",
    "idx_val, idx_test, labels_val, labels_test = train_test_split(\n",
    "    idx_temp, labels_temp, test_size=0.5, stratify=labels_temp, random_state=42\n",
    ")"
   ],
   "id": "88f7351006c7980e",
   "outputs": [],
   "execution_count": 34
  },
  {
   "metadata": {
    "ExecuteTime": {
     "end_time": "2024-12-01T03:13:29.283969Z",
     "start_time": "2024-12-01T03:13:29.279640Z"
    }
   },
   "cell_type": "code",
   "source": [
    "idx_train = torch.LongTensor(idx_train)\n",
    "idx_val = torch.LongTensor(idx_val)\n",
    "idx_test = torch.LongTensor(idx_test)"
   ],
   "id": "c2a8b8585d9c4f51",
   "outputs": [],
   "execution_count": 35
  },
  {
   "metadata": {
    "ExecuteTime": {
     "end_time": "2024-12-01T03:11:31.092998Z",
     "start_time": "2024-12-01T03:11:31.087550Z"
    }
   },
   "cell_type": "code",
   "source": [
    "import torch.nn as nn\n",
    "import torch.nn.functional as F\n",
    "\n",
    "class GCN(nn.Module):\n",
    "    def __init__(self, nfeat, nhid, nclass, dropout):\n",
    "        super(GCN, self).__init__()\n",
    "        self.gc1 = GraphConvolution(nfeat, nhid)  # 第一层图卷积\n",
    "        self.gc2 = GraphConvolution(nhid, nclass)  # 第二层图卷积\n",
    "        self.dropout = dropout\n",
    "\n",
    "    def forward(self, x, adj):\n",
    "        x = F.relu(self.gc1(x, adj))  # 图卷积 + ReLU\n",
    "        x = F.dropout(x, self.dropout, training=self.training)  # Dropout 防止过拟合\n",
    "        x = self.gc2(x, adj)  # 输出层\n",
    "        return F.log_softmax(x, dim=1)  # Log-Softmax 用于多分类任务\n",
    "\n",
    "class GraphConvolution(nn.Module):\n",
    "    def __init__(self, in_features, out_features, bias=True):\n",
    "        super(GraphConvolution, self).__init__()\n",
    "        self.in_features = in_features\n",
    "        self.out_features = out_features\n",
    "        self.weight = nn.Parameter(torch.FloatTensor(in_features, out_features))\n",
    "        if bias:\n",
    "            self.bias = nn.Parameter(torch.FloatTensor(out_features))\n",
    "        else:\n",
    "            self.register_parameter('bias', None)\n",
    "        self.reset_parameters()"
   ],
   "id": "53381d88aebe8c8b",
   "outputs": [],
   "execution_count": 32
  },
  {
   "metadata": {
    "ExecuteTime": {
     "end_time": "2024-12-01T03:12:43.224628Z",
     "start_time": "2024-12-01T03:12:43.219305Z"
    }
   },
   "cell_type": "code",
   "source": [
    "def accuracy(output, labels):\n",
    "    \"\"\"计算分类准确率\"\"\"\n",
    "    preds = output.max(1)[1].type_as(labels)\n",
    "    correct = preds.eq(labels).double()\n",
    "    correct = correct.sum()\n",
    "    return correct / len(labels)\n",
    "\n",
    "def evaluate_gcn(model, adj, features, labels, idx_test):\n",
    "    \"\"\"评估模型\"\"\"\n",
    "    model.eval()\n",
    "    output = model(features, adj)\n",
    "    preds = output[idx_test].max(1)[1].type_as(labels)\n",
    "    print(\"Test Classification Report:\")\n",
    "    print(classification_report(labels[idx_test].cpu().numpy(), preds.cpu().numpy()))\n",
    "\n",
    "\n",
    "def train_gcn(adj, features, labels, idx_train, idx_val, nfeat, nhid, nclass, epochs=200, lr=0.01, weight_decay=5e-4, dropout=0.5):\n",
    "    # 初始化模型和优化器\n",
    "    model = GCN(nfeat=nfeat, nhid=nhid, nclass=nclass, dropout=dropout)\n",
    "    optimizer = torch.optim.Adam(model.parameters(), lr=lr, weight_decay=weight_decay)\n",
    "\n",
    "    # 训练模型\n",
    "    model.train()\n",
    "    for epoch in range(epochs):\n",
    "        optimizer.zero_grad()\n",
    "        output = model(features, adj)  # 前向传播\n",
    "        loss_train = F.nll_loss(output[idx_train], labels[idx_train])  # 计算损失\n",
    "        loss_train.backward()\n",
    "        optimizer.step()\n",
    "\n",
    "        # 验证集评估\n",
    "        model.eval()\n",
    "        output = model(features, adj)\n",
    "        loss_val = F.nll_loss(output[idx_val], labels[idx_val])\n",
    "        acc_val = accuracy(output[idx_val], labels[idx_val])\n",
    "        print(f\"Epoch {epoch+1}: Train Loss = {loss_train.item():.4f}, Val Loss = {loss_val.item():.4f}, Val Accuracy = {acc_val:.4f}\")\n",
    "    return model"
   ],
   "id": "3dd3e0e716a61304",
   "outputs": [],
   "execution_count": 33
  },
  {
   "metadata": {
    "ExecuteTime": {
     "end_time": "2024-12-01T03:19:16.625509Z",
     "start_time": "2024-12-01T03:19:16.591004Z"
    }
   },
   "cell_type": "code",
   "source": "model = train_gcn(adj, features, labels, idx_train, idx_val, nfeat=features.shape[1], nhid=16, nclass=3)\n",
   "id": "546b574c0f405099",
   "outputs": [
    {
     "ename": "AttributeError",
     "evalue": "'GraphConvolution' object has no attribute 'reset_parameters'",
     "output_type": "error",
     "traceback": [
      "\u001B[1;31m---------------------------------------------------------------------------\u001B[0m",
      "\u001B[1;31mAttributeError\u001B[0m                            Traceback (most recent call last)",
      "Cell \u001B[1;32mIn[38], line 1\u001B[0m\n\u001B[1;32m----> 1\u001B[0m model \u001B[38;5;241m=\u001B[39m train_gcn(adj, features, labels, idx_train, idx_val, nfeat\u001B[38;5;241m=\u001B[39mfeatures\u001B[38;5;241m.\u001B[39mshape[\u001B[38;5;241m1\u001B[39m], nhid\u001B[38;5;241m=\u001B[39m\u001B[38;5;241m16\u001B[39m, nclass\u001B[38;5;241m=\u001B[39m\u001B[38;5;241m3\u001B[39m)\n",
      "Cell \u001B[1;32mIn[33], line 19\u001B[0m, in \u001B[0;36mtrain_gcn\u001B[1;34m(adj, features, labels, idx_train, idx_val, nfeat, nhid, nclass, epochs, lr, weight_decay, dropout)\u001B[0m\n\u001B[0;32m     17\u001B[0m \u001B[38;5;28;01mdef\u001B[39;00m \u001B[38;5;21mtrain_gcn\u001B[39m(adj, features, labels, idx_train, idx_val, nfeat, nhid, nclass, epochs\u001B[38;5;241m=\u001B[39m\u001B[38;5;241m200\u001B[39m, lr\u001B[38;5;241m=\u001B[39m\u001B[38;5;241m0.01\u001B[39m, weight_decay\u001B[38;5;241m=\u001B[39m\u001B[38;5;241m5e-4\u001B[39m, dropout\u001B[38;5;241m=\u001B[39m\u001B[38;5;241m0.5\u001B[39m):\n\u001B[0;32m     18\u001B[0m     \u001B[38;5;66;03m# 初始化模型和优化器\u001B[39;00m\n\u001B[1;32m---> 19\u001B[0m     model \u001B[38;5;241m=\u001B[39m GCN(nfeat\u001B[38;5;241m=\u001B[39mnfeat, nhid\u001B[38;5;241m=\u001B[39mnhid, nclass\u001B[38;5;241m=\u001B[39mnclass, dropout\u001B[38;5;241m=\u001B[39mdropout)\n\u001B[0;32m     20\u001B[0m     optimizer \u001B[38;5;241m=\u001B[39m torch\u001B[38;5;241m.\u001B[39moptim\u001B[38;5;241m.\u001B[39mAdam(model\u001B[38;5;241m.\u001B[39mparameters(), lr\u001B[38;5;241m=\u001B[39mlr, weight_decay\u001B[38;5;241m=\u001B[39mweight_decay)\n\u001B[0;32m     22\u001B[0m     \u001B[38;5;66;03m# 训练模型\u001B[39;00m\n",
      "Cell \u001B[1;32mIn[32], line 7\u001B[0m, in \u001B[0;36mGCN.__init__\u001B[1;34m(self, nfeat, nhid, nclass, dropout)\u001B[0m\n\u001B[0;32m      5\u001B[0m \u001B[38;5;28;01mdef\u001B[39;00m \u001B[38;5;21m__init__\u001B[39m(\u001B[38;5;28mself\u001B[39m, nfeat, nhid, nclass, dropout):\n\u001B[0;32m      6\u001B[0m     \u001B[38;5;28msuper\u001B[39m(GCN, \u001B[38;5;28mself\u001B[39m)\u001B[38;5;241m.\u001B[39m\u001B[38;5;21m__init__\u001B[39m()\n\u001B[1;32m----> 7\u001B[0m     \u001B[38;5;28mself\u001B[39m\u001B[38;5;241m.\u001B[39mgc1 \u001B[38;5;241m=\u001B[39m GraphConvolution(nfeat, nhid)  \u001B[38;5;66;03m# 第一层图卷积\u001B[39;00m\n\u001B[0;32m      8\u001B[0m     \u001B[38;5;28mself\u001B[39m\u001B[38;5;241m.\u001B[39mgc2 \u001B[38;5;241m=\u001B[39m GraphConvolution(nhid, nclass)  \u001B[38;5;66;03m# 第二层图卷积\u001B[39;00m\n\u001B[0;32m      9\u001B[0m     \u001B[38;5;28mself\u001B[39m\u001B[38;5;241m.\u001B[39mdropout \u001B[38;5;241m=\u001B[39m dropout\n",
      "Cell \u001B[1;32mIn[32], line 27\u001B[0m, in \u001B[0;36mGraphConvolution.__init__\u001B[1;34m(self, in_features, out_features, bias)\u001B[0m\n\u001B[0;32m     25\u001B[0m \u001B[38;5;28;01melse\u001B[39;00m:\n\u001B[0;32m     26\u001B[0m     \u001B[38;5;28mself\u001B[39m\u001B[38;5;241m.\u001B[39mregister_parameter(\u001B[38;5;124m'\u001B[39m\u001B[38;5;124mbias\u001B[39m\u001B[38;5;124m'\u001B[39m, \u001B[38;5;28;01mNone\u001B[39;00m)\n\u001B[1;32m---> 27\u001B[0m \u001B[38;5;28mself\u001B[39m\u001B[38;5;241m.\u001B[39mreset_parameters()\n",
      "File \u001B[1;32mD:\\ProgramData\\anaconda3\\envs\\pytorch\\Lib\\site-packages\\torch\\nn\\modules\\module.py:1729\u001B[0m, in \u001B[0;36mModule.__getattr__\u001B[1;34m(self, name)\u001B[0m\n\u001B[0;32m   1727\u001B[0m     \u001B[38;5;28;01mif\u001B[39;00m name \u001B[38;5;129;01min\u001B[39;00m modules:\n\u001B[0;32m   1728\u001B[0m         \u001B[38;5;28;01mreturn\u001B[39;00m modules[name]\n\u001B[1;32m-> 1729\u001B[0m \u001B[38;5;28;01mraise\u001B[39;00m \u001B[38;5;167;01mAttributeError\u001B[39;00m(\u001B[38;5;124mf\u001B[39m\u001B[38;5;124m\"\u001B[39m\u001B[38;5;124m'\u001B[39m\u001B[38;5;132;01m{\u001B[39;00m\u001B[38;5;28mtype\u001B[39m(\u001B[38;5;28mself\u001B[39m)\u001B[38;5;241m.\u001B[39m\u001B[38;5;18m__name__\u001B[39m\u001B[38;5;132;01m}\u001B[39;00m\u001B[38;5;124m'\u001B[39m\u001B[38;5;124m object has no attribute \u001B[39m\u001B[38;5;124m'\u001B[39m\u001B[38;5;132;01m{\u001B[39;00mname\u001B[38;5;132;01m}\u001B[39;00m\u001B[38;5;124m'\u001B[39m\u001B[38;5;124m\"\u001B[39m)\n",
      "\u001B[1;31mAttributeError\u001B[0m: 'GraphConvolution' object has no attribute 'reset_parameters'"
     ]
    }
   ],
   "execution_count": 38
  }
 ],
 "metadata": {
  "kernelspec": {
   "display_name": "Python 3",
   "language": "python",
   "name": "python3"
  },
  "language_info": {
   "codemirror_mode": {
    "name": "ipython",
    "version": 2
   },
   "file_extension": ".py",
   "mimetype": "text/x-python",
   "name": "python",
   "nbconvert_exporter": "python",
   "pygments_lexer": "ipython2",
   "version": "2.7.6"
  }
 },
 "nbformat": 4,
 "nbformat_minor": 5
}
